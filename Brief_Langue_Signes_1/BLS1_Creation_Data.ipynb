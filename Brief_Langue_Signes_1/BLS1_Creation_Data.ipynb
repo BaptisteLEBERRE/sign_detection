{
 "cells": [
  {
   "cell_type": "markdown",
   "id": "tired-relative",
   "metadata": {},
   "source": [
    "# Création du dataset d'alphabet de langue des signes\n",
    "\n",
    "La première étape du document consiste à créer un dataset un prenant des photos de mains faisant les signes demandés. Le notebook sera donc à relancer pour la création de chaque lettre."
   ]
  },
  {
   "cell_type": "markdown",
   "id": "norman-acrylic",
   "metadata": {},
   "source": [
    "## Capture des images de la lettre\n",
    "\n",
    "Importer les modules nécessaires :"
   ]
  },
  {
   "cell_type": "code",
   "execution_count": 1,
   "id": "incoming-works",
   "metadata": {},
   "outputs": [],
   "source": [
    "import cv2\n",
    "import numpy as np\n",
    "from pathlib import Path"
   ]
  },
  {
   "cell_type": "markdown",
   "id": "interstate-killer",
   "metadata": {},
   "source": [
    "Choisir la lettre à faire signer :"
   ]
  },
  {
   "cell_type": "code",
   "execution_count": 2,
   "id": "controlled-kazakhstan",
   "metadata": {},
   "outputs": [
    {
     "name": "stdout",
     "output_type": "stream",
     "text": [
      "A\n"
     ]
    }
   ],
   "source": [
    "element = input()"
   ]
  },
  {
   "cell_type": "markdown",
   "id": "naughty-visitor",
   "metadata": {},
   "source": [
    "Créer le dossier de réception s'il n'existe pas :"
   ]
  },
  {
   "cell_type": "code",
   "execution_count": 3,
   "id": "liked-hampshire",
   "metadata": {},
   "outputs": [],
   "source": [
    "Path(\"gesture\\\\\" + str(element)).mkdir(parents=True, exist_ok=True)"
   ]
  },
  {
   "cell_type": "markdown",
   "id": "oriented-display",
   "metadata": {},
   "source": [
    "Définition de variables (variable booléenne``background``, ``accumulated_weight``, et les limites du cadre de prise d'image) :"
   ]
  },
  {
   "cell_type": "code",
   "execution_count": 4,
   "id": "discrete-battery",
   "metadata": {},
   "outputs": [],
   "source": [
    "background = None\n",
    "accumulated_weight = 0.5\n",
    "\n",
    "ROI_top = 100\n",
    "ROI_bottom = 300\n",
    "ROI_right = 150\n",
    "ROI_left = 350"
   ]
  },
  {
   "cell_type": "markdown",
   "id": "gentle-somewhere",
   "metadata": {},
   "source": [
    "Définition d'une fonction de calcul à partir de la fonction ``accumulated_weight`` de ``cv2``, pour collecter en image la moyenne de l'output de la caméra."
   ]
  },
  {
   "cell_type": "code",
   "execution_count": 5,
   "id": "monetary-tower",
   "metadata": {},
   "outputs": [],
   "source": [
    "def cal_accum_avg(frame, accumulated_weight):\n",
    "\n",
    "    global background\n",
    "    \n",
    "    if background is None:\n",
    "        background = frame.copy().astype(\"float\")\n",
    "        return None\n",
    "\n",
    "    cv2.accumulateWeighted(frame, background, accumulated_weight)"
   ]
  },
  {
   "cell_type": "markdown",
   "id": "intended-fiction",
   "metadata": {},
   "source": [
    "Cette image définira le background, qui servira à différencier la main du reste de l'image en calculant les différences avec la première.\n",
    "\n",
    "Définition d'une fonction de prise en image des contours de la main, avec ``absdiff``, ``threshold`` et `` findCoutours`` de ``cv2`` :"
   ]
  },
  {
   "cell_type": "code",
   "execution_count": 6,
   "id": "balanced-naples",
   "metadata": {},
   "outputs": [],
   "source": [
    "def segment_hand(frame, threshold=25):\n",
    "    global background\n",
    "    \n",
    "    diff = cv2.absdiff(background.astype(\"uint8\"), frame)\n",
    "\n",
    "    _ , thresholded = cv2.threshold(diff, threshold, 255, cv2.THRESH_BINARY)\n",
    "\n",
    "    # Grab the external contours for the image\n",
    "    contours, hierarchy = cv2.findContours(thresholded.copy(), cv2.RETR_EXTERNAL, cv2.CHAIN_APPROX_SIMPLE)\n",
    "\n",
    "    if len(contours) == 0:\n",
    "        return None\n",
    "    else:\n",
    "        \n",
    "        hand_segment_max_cont = max(contours, key=cv2.contourArea)\n",
    "        \n",
    "        return (thresholded, hand_segment_max_cont)"
   ]
  },
  {
   "cell_type": "markdown",
   "id": "identical-finnish",
   "metadata": {},
   "source": [
    "Démarrage de la webcam et capture des images :"
   ]
  },
  {
   "cell_type": "code",
   "execution_count": 7,
   "id": "former-latitude",
   "metadata": {},
   "outputs": [],
   "source": [
    "cam = cv2.VideoCapture(0)\n",
    "\n",
    "num_frames = 0\n",
    "num_imgs_taken = 0\n",
    "\n",
    "while True:\n",
    "    ret, frame = cam.read()\n",
    "\n",
    "    #Faire pivoter les images\n",
    "    frame = cv2.flip(frame, 1)\n",
    "\n",
    "    frame_copy = frame.copy()\n",
    "\n",
    "    #Définition du cadre de capture avec son carré à afficher\n",
    "    roi = frame[ROI_top:ROI_bottom, ROI_right:ROI_left]\n",
    "    gray_frame = cv2.cvtColor(roi, cv2.COLOR_BGR2GRAY)\n",
    "    gray_frame = cv2.GaussianBlur(gray_frame, (9, 9), 0)\n",
    "\n",
    "    #Capture du background\n",
    "    if num_frames < 60:\n",
    "        cal_accum_avg(gray_frame, accumulated_weight)\n",
    "        if num_frames <= 59:\n",
    "            \n",
    "            cv2.putText(frame_copy, \"Capture du background, en attente...\", (80, 400), cv2.FONT_HERSHEY_SIMPLEX, 0.9, (0,0,255), 2)\n",
    "         \n",
    "    #Détection de la main dans le cadre\n",
    "    ##Si le nombre d'images prises dépasse 100...\n",
    "    elif num_frames <= 100: \n",
    "\n",
    "        hand = segment_hand(gray_frame)\n",
    "        \n",
    "        cv2.putText(frame_copy, \"Ajuster la main pour le signe de \" + str(element), (200, 400), cv2.FONT_HERSHEY_SIMPLEX, 1, (0,0,255), 2)\n",
    "        \n",
    "        #Vérification de la présence de la main en détectant les contours\n",
    "        if hand is not None:\n",
    "            \n",
    "            thresholded, hand_segment = hand\n",
    "\n",
    "            #Dessiner les contours autour de la main\n",
    "            cv2.drawContours(frame_copy, [hand_segment + (ROI_right, ROI_top)], -1, (255, 0, 0),1)\n",
    "            \n",
    "            cv2.putText(frame_copy, str(num_frames)+\" pour \" + str(element), (70, 45), cv2.FONT_HERSHEY_SIMPLEX, 1, (0,0,255), 2)\n",
    "\n",
    "            #Montrer l'image de la main version threshold\n",
    "            cv2.imshow(\"Threshold de main\", thresholded)\n",
    "    \n",
    "    ##Tant que le nombre d'images prises ne dépasse pas 100...\n",
    "    else: \n",
    "        \n",
    "        # Segmenter la région de la main\n",
    "        hand = segment_hand(gray_frame)\n",
    "        \n",
    "        #Vérification de la présence de la main\n",
    "        if hand is not None:\n",
    "            \n",
    "            # Obtenir le thresholded et le max_contour de la main\n",
    "            thresholded, hand_segment = hand\n",
    "\n",
    "            #Dessiner les contours autour de la main\n",
    "            cv2.drawContours(frame_copy, [hand_segment + (ROI_right, ROI_top)], -1, (255, 0, 0),1)\n",
    "            \n",
    "            #Ajouter le texte\n",
    "            cv2.putText(frame_copy, str(num_frames), (70, 45), cv2.FONT_HERSHEY_SIMPLEX, 1, (0,0,255), 2)\n",
    "            #cv2.putText(frame_copy, str(num_frames)+\"pour\" + str(element), (70, 45), cv2.FONT_HERSHEY_SIMPLEX, 1, (0,0,255), 2)\n",
    "            cv2.putText(frame_copy, str(num_imgs_taken) + 'images' +\"pour\" + str(element), (200, 400), cv2.FONT_HERSHEY_SIMPLEX, 1, (0,0,255), 2)\n",
    "            \n",
    "            #Montrer l'image de la main version threshold\n",
    "            cv2.imshow(\"Threshold de main\", thresholded)\n",
    "            if num_imgs_taken <= 100:\n",
    "                #Enregistrer l'image\n",
    "                cv2.imwrite(\"gesture\\\\\" + str(element) + \"\\\\\" + str(element)  + str(num_imgs_taken) + '.jpg', thresholded)\n",
    "            else:\n",
    "                break\n",
    "            num_imgs_taken +=1\n",
    "        #Si la main n'est pas détectée...\n",
    "        else:\n",
    "            cv2.putText(frame_copy, 'Pas de main en vue...', (200, 400), cv2.FONT_HERSHEY_SIMPLEX, 1, (0,0,255), 2)\n",
    "\n",
    "    #Dessiner le cadre sur la copie de l'image\n",
    "    cv2.rectangle(frame_copy, (ROI_left, ROI_top), (ROI_right, ROI_bottom), (255,128,0), 3)\n",
    "    \n",
    "    #Ajouter le texte de description\n",
    "    cv2.putText(frame_copy, \"Reconaissance de langue des signes DataFlair\", (10, 20), cv2.FONT_ITALIC, 0.5, (51,255,51), 1)\n",
    "    \n",
    "    #Augmenter le nombre de frames pour le compte\n",
    "    num_frames += 1\n",
    "\n",
    "    #Montrer l'image avec la main segmentée\n",
    "    cv2.imshow(\"Detection de signe\", frame_copy)\n",
    "\n",
    "    #Utiliser ESCAPE pour arrêter\n",
    "    k = cv2.waitKey(1) & 0xFF\n",
    "\n",
    "    if k == 27:\n",
    "        break\n",
    "\n",
    "#Fermer la caméra et les fenêtres\n",
    "cv2.destroyAllWindows()\n",
    "cam.release()"
   ]
  },
  {
   "cell_type": "markdown",
   "id": "polyphonic-comparison",
   "metadata": {},
   "source": [
    "## Correction manuelle\n",
    "\n",
    "Les images créées, on peut aller les vérifier dans le dossiers et retirer celles qui paraissent incorrectes. Le nombre d'image peut être réduit sans trop de problème car il leur sera appliqué une data augmentation dans la partie suivante. Penser à garder un nombre similaire d'images par lettre pour l'équilibre du dataset."
   ]
  }
 ],
 "metadata": {
  "kernelspec": {
   "display_name": "Python 3",
   "language": "python",
   "name": "python3"
  },
  "language_info": {
   "codemirror_mode": {
    "name": "ipython",
    "version": 3
   },
   "file_extension": ".py",
   "mimetype": "text/x-python",
   "name": "python",
   "nbconvert_exporter": "python",
   "pygments_lexer": "ipython3",
   "version": "3.8.8"
  }
 },
 "nbformat": 4,
 "nbformat_minor": 5
}
